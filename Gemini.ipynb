{
  "nbformat": 4,
  "nbformat_minor": 0,
  "metadata": {
    "colab": {
      "provenance": [],
      "authorship_tag": "ABX9TyPfKH3xRQYzzvXMvPc/am3o",
      "include_colab_link": true
    },
    "kernelspec": {
      "name": "python3",
      "display_name": "Python 3"
    },
    "language_info": {
      "name": "python"
    }
  },
  "cells": [
    {
      "cell_type": "markdown",
      "metadata": {
        "id": "view-in-github",
        "colab_type": "text"
      },
      "source": [
        "<a href=\"https://colab.research.google.com/github/tonyhtchan/colab/blob/main/Gemini.ipynb\" target=\"_parent\"><img src=\"https://colab.research.google.com/assets/colab-badge.svg\" alt=\"Open In Colab\"/></a>"
      ]
    },
    {
      "cell_type": "code",
      "execution_count": 2,
      "metadata": {
        "id": "egHTJmZUygI6"
      },
      "outputs": [],
      "source": [
        "#@title Configure Gemini API key\n",
        "\n",
        "import google.generativeai as genai\n",
        "from google.colab import userdata\n",
        "\n",
        "gemini_api_secret_name = 'GOOGLE_API_KEY'  # @param {type: \"string\"}\n",
        "\n",
        "try:\n",
        "  GOOGLE_API_KEY=userdata.get(gemini_api_secret_name)\n",
        "  genai.configure(api_key=GOOGLE_API_KEY)\n",
        "except userdata.SecretNotFoundError as e:\n",
        "   print(f'Secret not found\\n\\nThis expects you to create a secret named {gemini_api_secret_name} in Colab\\n\\nVisit https://makersuite.google.com/app/apikey to create an API key\\n\\nStore that in the secrets section on the left side of the notebook (key icon)\\n\\nName the secret {gemini_api_secret_name}')\n",
        "   raise e\n",
        "except userdata.NotebookAccessError as e:\n",
        "  print(f'You need to grant this notebook access to the {gemini_api_secret_name} secret in order for the notebook to access Gemini on your behalf.')\n",
        "  raise e\n",
        "except Exception as e:\n",
        "  # unknown error\n",
        "  print(f\"There was an unknown error. Ensure you have a secret {gemini_api_secret_name} stored in Colab and it's a valid key from https://makersuite.google.com/app/apikey\")\n",
        "  raise e"
      ]
    },
    {
      "cell_type": "code",
      "source": [
        "#connect to the API and send an example message\n",
        "\n",
        "text = 'Who is Obama?' #@param {type: 'string'}\n",
        "\n",
        "model = genai.GenerativeModel('gemini-pro')\n",
        "chat = model.start_chat(history=[])\n",
        "\n",
        "response = chat.send_message(text)\n",
        "response.text"
      ],
      "metadata": {
        "colab": {
          "base_uri": "https://localhost:8080/",
          "height": 122
        },
        "id": "dz2qM48UyyDX",
        "outputId": "9a28d764-4433-4d36-e793-343e6ae4693d"
      },
      "execution_count": 4,
      "outputs": [
        {
          "output_type": "execute_result",
          "data": {
            "text/plain": [
              "'Barack Obama is an American politician and attorney who served as the 44th president of the United States from 2009 to 2017. He was the first African-American president of the United States.\\n\\n**Early Life and Education:**\\n\\n* Born on August 4, 1961, in Honolulu, Hawaii\\n* Graduated from Columbia University and Harvard Law School\\n* Worked as a community organizer in Chicago\\n\\n**Political Career:**\\n\\n* Served in the Illinois State Senate (1997-2004)\\n* Elected to the United States Senate in 2004\\n* Gave a widely acclaimed speech at the 2004 Democratic National Convention\\n* Ran for president in 2008 and defeated Republican candidate John McCain\\n\\n**Presidency (2009-2017):**\\n\\n* Implemented the Affordable Care Act (Obamacare)\\n* Ended the Iraq War and increased troop levels in Afghanistan\\n* Authorized the raid that killed Osama bin Laden\\n* Signed the Dodd-Frank Wall Street Reform and Consumer Protection Act\\n* Normalized diplomatic relations with Cuba\\n* Negotiated the Iran nuclear deal\\n\\n**Post-Presidency:**\\n\\n* Founded the Obama Foundation to empower youth and support civic engagement\\n* Authored two books, \"Dreams from My Father\" and \"A Promised Land\"\\n* Remains active in public life and gives speeches on various issues\\n\\n**Personal Life:**\\n\\n* Married to Michelle Obama since 1992\\n* Has two daughters, Sasha and Malia\\n\\n**Legacy:**\\n\\n* Obama\\'s presidency marked significant achievements in healthcare, foreign policy, and the economy.\\n* He is widely regarded as a transformative figure in American politics.\\n* His presidency expanded the role of government in providing social services and helped to improve race relations.'"
            ],
            "application/vnd.google.colaboratory.intrinsic+json": {
              "type": "string"
            }
          },
          "metadata": {},
          "execution_count": 4
        }
      ]
    },
    {
      "cell_type": "code",
      "source": [],
      "metadata": {
        "id": "Wc-NT0PYzhyw"
      },
      "execution_count": null,
      "outputs": []
    }
  ]
}